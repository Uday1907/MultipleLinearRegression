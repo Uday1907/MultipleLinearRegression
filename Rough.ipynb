{
 "cells": [
  {
   "cell_type": "code",
   "execution_count": 1,
   "id": "c1e947d1-0dd1-4fdf-a0f7-f2b1f7a2c509",
   "metadata": {},
   "outputs": [],
   "source": [
    "import numpy as np"
   ]
  },
  {
   "cell_type": "code",
   "execution_count": 8,
   "id": "6f7a00d5-65f1-4b5e-841c-2f8e3468f692",
   "metadata": {},
   "outputs": [
    {
     "name": "stdout",
     "output_type": "stream",
     "text": [
      "[12  6]\n"
     ]
    }
   ],
   "source": [
    "x=np.array([[1,2,3],[1,1,1]])\n",
    "y=np.array([2,2,2])\n",
    "print(np.dot(y,x.T))"
   ]
  },
  {
   "cell_type": "code",
   "execution_count": null,
   "id": "8d6366eb-3bf9-46ca-88ba-ceb4c4c9d21a",
   "metadata": {},
   "outputs": [],
   "source": []
  }
 ],
 "metadata": {
  "kernelspec": {
   "display_name": "Python 3 (ipykernel)",
   "language": "python",
   "name": "python3"
  },
  "language_info": {
   "codemirror_mode": {
    "name": "ipython",
    "version": 3
   },
   "file_extension": ".py",
   "mimetype": "text/x-python",
   "name": "python",
   "nbconvert_exporter": "python",
   "pygments_lexer": "ipython3",
   "version": "3.11.3"
  }
 },
 "nbformat": 4,
 "nbformat_minor": 5
}
